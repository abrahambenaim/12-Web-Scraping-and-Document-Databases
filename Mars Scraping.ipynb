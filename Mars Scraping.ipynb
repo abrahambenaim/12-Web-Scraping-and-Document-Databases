{
 "cells": [
  {
   "cell_type": "code",
   "execution_count": 1,
   "metadata": {},
   "outputs": [],
   "source": [
    "from bs4 import BeautifulSoup\n",
    "from splinter import Browser\n",
    "import pandas as pd\n",
    "import requests\n",
    "import selenium\n",
    "from selenium import webdriver"
   ]
  },
  {
   "cell_type": "code",
   "execution_count": 2,
   "metadata": {},
   "outputs": [],
   "source": [
    "executable_path = {'executable_path': '/usr/local/Caskroom/chromedriver/79.0.3945.36/chromedriver'}\n",
    "browser = Browser('chrome', **executable_path, headless=False)\n"
   ]
  },
  {
   "cell_type": "code",
   "execution_count": 3,
   "metadata": {},
   "outputs": [],
   "source": [
    "url = 'https://mars.nasa.gov/news/'\n",
    "browser.visit(url)"
   ]
  },
  {
   "cell_type": "code",
   "execution_count": 4,
   "metadata": {},
   "outputs": [],
   "source": [
    "html = browser.html\n",
    "soup = BeautifulSoup(html, 'html.parser')\n"
   ]
  },
  {
   "cell_type": "markdown",
   "metadata": {},
   "source": [
    "# NASA Mars News"
   ]
  },
  {
   "cell_type": "code",
   "execution_count": 5,
   "metadata": {},
   "outputs": [
    {
     "name": "stdout",
     "output_type": "stream",
     "text": [
      "Title: NASA Administrator Statement on Moon to Mars Initiative, FY 2021 Budget\n",
      "Content: Jim Bridenstine addresses NASA's ambitious plans for the coming years, including Mars Sample Return.\n",
      "Date: February 10, 2020\n"
     ]
    }
   ],
   "source": [
    "#Latest article on Mars website:\n",
    "news_title = soup.find(\"div\",class_=\"content_title\").text\n",
    "news_content = soup.find(\"div\",class_=\"article_teaser_body\").text\n",
    "news_date = soup.find(\"div\",class_=\"list_date\").text\n",
    "print(f\"Title: {news_title}\")\n",
    "print(f\"Content: {news_content}\")\n",
    "print(f\"Date: {news_date}\")"
   ]
  },
  {
   "cell_type": "markdown",
   "metadata": {},
   "source": [
    "# JPL Mars Space Images - Featured Image"
   ]
  },
  {
   "cell_type": "code",
   "execution_count": 72,
   "metadata": {},
   "outputs": [],
   "source": [
    "url_image = 'https://www.jpl.nasa.gov/spaceimages/?search=&category=Mars'\n",
    "\n",
    "\n",
    "executable_path = {'executable_path': '/usr/local/bin/chromedriver'}\n",
    "browser = Browser('chrome', **executable_path, headless=False)\n",
    "browser.visit(url_image)"
   ]
  },
  {
   "cell_type": "code",
   "execution_count": 73,
   "metadata": {},
   "outputs": [],
   "source": [
    "html_i = browser.html\n",
    "soup_i = BeautifulSoup(html_i, 'html.parser')\n"
   ]
  },
  {
   "cell_type": "code",
   "execution_count": 74,
   "metadata": {
    "scrolled": false
   },
   "outputs": [
    {
     "name": "stderr",
     "output_type": "stream",
     "text": [
      "/Users/cla/opt/anaconda3/lib/python3.7/site-packages/splinter/driver/webdriver/__init__.py:528: FutureWarning: browser.find_link_by_partial_text is deprecated. Use browser.links.find_by_partial_text instead.\n",
      "  FutureWarning,\n"
     ]
    }
   ],
   "source": [
    "image_button = browser.find_by_id(\"full_image\").click()\n",
    "next_link = browser.find_link_by_partial_text(\"more info\").click()\n",
    "\n"
   ]
  },
  {
   "cell_type": "code",
   "execution_count": 89,
   "metadata": {},
   "outputs": [],
   "source": [
    "results_i = soup.find_all('img')\n"
   ]
  },
  {
   "cell_type": "code",
   "execution_count": 90,
   "metadata": {},
   "outputs": [
    {
     "data": {
      "text/plain": [
       "[<img alt=\"\" class=\"print_only print_logo\" src=\"/assets/images/logo_nasa_trio_black@2x.png\"/>,\n",
       " <img alt=\"\" class=\"print_only print_logo\" src=\"/assets/images/logo_nasa_trio_black@2x.png\"/>,\n",
       " <img alt=\"more arrow\" src=\"/assets/images/overlay-arrow.png\"/>,\n",
       " <img alt=\"Nili Fossae\" class=\"thumb\" src=\"/spaceimages/images/wallpaper/PIA23664-640x350.jpg\" title=\"Nili Fossae\"/>,\n",
       " <img alt=\"more arrow\" src=\"/assets/images/overlay-arrow.png\"/>,\n",
       " <img alt=\"Mamers Valles\" class=\"thumb\" src=\"/spaceimages/images/wallpaper/PIA23663-640x350.jpg\" title=\"Mamers Valles\"/>,\n",
       " <img alt=\"more arrow\" src=\"/assets/images/overlay-arrow.png\"/>,\n",
       " <img alt=\"Nili Fossae\" class=\"thumb\" src=\"/spaceimages/images/wallpaper/PIA23662-640x350.jpg\" title=\"Nili Fossae\"/>,\n",
       " <img alt=\"more arrow\" src=\"/assets/images/overlay-arrow.png\"/>,\n",
       " <img alt=\"Hephaestus Fossae\" class=\"thumb\" src=\"/spaceimages/images/wallpaper/PIA23661-640x350.jpg\" title=\"Hephaestus Fossae\"/>,\n",
       " <img alt=\"more arrow\" src=\"/assets/images/overlay-arrow.png\"/>,\n",
       " <img alt=\"Ascraeus Mons Flank\" class=\"thumb\" src=\"/spaceimages/images/wallpaper/PIA23660-640x350.jpg\" title=\"Ascraeus Mons Flank\"/>,\n",
       " <img alt=\"more arrow\" src=\"/assets/images/overlay-arrow.png\"/>,\n",
       " <img alt=\"Auqakuh Vallis\" class=\"thumb\" src=\"/spaceimages/images/wallpaper/PIA23659-640x350.jpg\" title=\"Auqakuh Vallis\"/>,\n",
       " <img alt=\"more arrow\" src=\"/assets/images/overlay-arrow.png\"/>,\n",
       " <img alt=\"Acidalia Planitia Crater\" class=\"thumb\" src=\"/spaceimages/images/wallpaper/PIA23658-640x350.jpg\" title=\"Acidalia Planitia Crater\"/>,\n",
       " <img alt=\"more arrow\" src=\"/assets/images/overlay-arrow.png\"/>,\n",
       " <img alt=\"Cerberus Fossae\" class=\"thumb\" src=\"/spaceimages/images/wallpaper/PIA23657-640x350.jpg\" title=\"Cerberus Fossae\"/>,\n",
       " <img alt=\"more arrow\" src=\"/assets/images/overlay-arrow.png\"/>,\n",
       " <img alt=\"Arabia Terra Channel\" class=\"thumb\" src=\"/spaceimages/images/wallpaper/PIA23656-640x350.jpg\" title=\"Arabia Terra Channel\"/>,\n",
       " <img alt=\"more arrow\" src=\"/assets/images/overlay-arrow.png\"/>,\n",
       " <img alt=\"Naktong Vallis\" class=\"thumb\" src=\"/spaceimages/images/wallpaper/PIA23655-640x350.jpg\" title=\"Naktong Vallis\"/>,\n",
       " <img alt=\"more arrow\" src=\"/assets/images/overlay-arrow.png\"/>,\n",
       " <img alt=\"Tractus Catena\" class=\"thumb\" src=\"/spaceimages/images/wallpaper/PIA23654-640x350.jpg\" title=\"Tractus Catena\"/>,\n",
       " <img alt=\"more arrow\" src=\"/assets/images/overlay-arrow.png\"/>,\n",
       " <img alt=\"Cerberus Fossae\" class=\"thumb\" src=\"/spaceimages/images/wallpaper/PIA23653-640x350.jpg\" title=\"Cerberus Fossae\"/>,\n",
       " <img alt=\"more arrow\" src=\"/assets/images/overlay-arrow.png\"/>,\n",
       " <img alt=\"Mangala Valles\" class=\"thumb\" src=\"/spaceimages/images/wallpaper/PIA23652-640x350.jpg\" title=\"Mangala Valles\"/>,\n",
       " <img alt=\"more arrow\" src=\"/assets/images/overlay-arrow.png\"/>,\n",
       " <img alt=\"Nanedi Valles\" class=\"thumb\" src=\"/spaceimages/images/wallpaper/PIA23651-640x350.jpg\" title=\"Nanedi Valles\"/>,\n",
       " <img alt=\"more arrow\" src=\"/assets/images/overlay-arrow.png\"/>,\n",
       " <img alt=\"Orcus Patera Dark Slope Streaks\" class=\"thumb\" src=\"/spaceimages/images/wallpaper/PIA23640-640x350.jpg\" title=\"Orcus Patera Dark Slope Streaks\"/>,\n",
       " <img alt=\"more arrow\" src=\"/assets/images/overlay-arrow.png\"/>,\n",
       " <img alt=\"Barchan and Linear Dunes\" class=\"thumb\" src=\"/spaceimages/images/wallpaper/PIA23669-640x350.jpg\" title=\"Barchan and Linear Dunes\"/>,\n",
       " <img alt=\"more arrow\" src=\"/assets/images/overlay-arrow.png\"/>,\n",
       " <img alt=\"Dunes Frozen in Time\" class=\"thumb\" src=\"/spaceimages/images/wallpaper/PIA23668-640x350.jpg\" title=\"Dunes Frozen in Time\"/>,\n",
       " <img alt=\"more arrow\" src=\"/assets/images/overlay-arrow.png\"/>,\n",
       " <img alt=\"Streamers of Frost\" class=\"thumb\" src=\"/spaceimages/images/wallpaper/PIA23667-640x350.jpg\" title=\"Streamers of Frost\"/>,\n",
       " <img alt=\"more arrow\" src=\"/assets/images/overlay-arrow.png\"/>,\n",
       " <img alt=\"A First Look at a Gullied Slope\" class=\"thumb\" src=\"/spaceimages/images/wallpaper/PIA23666-640x350.jpg\" title=\"A First Look at a Gullied Slope\"/>,\n",
       " <img alt=\"more arrow\" src=\"/assets/images/overlay-arrow.png\"/>,\n",
       " <img alt=\"Arsia Mons Summit\" class=\"thumb\" src=\"/spaceimages/images/wallpaper/PIA23639-640x350.jpg\" title=\"Arsia Mons Summit\"/>,\n",
       " <img alt=\"more arrow\" src=\"/assets/images/overlay-arrow.png\"/>,\n",
       " <img alt=\"Amenthes Fossae\" class=\"thumb\" src=\"/spaceimages/images/wallpaper/PIA23638-640x350.jpg\" title=\"Amenthes Fossae\"/>,\n",
       " <img alt=\"more arrow\" src=\"/assets/images/overlay-arrow.png\"/>,\n",
       " <img alt=\"Siton Undae\" class=\"thumb\" src=\"/spaceimages/images/wallpaper/PIA23637-640x350.jpg\" title=\"Siton Undae\"/>,\n",
       " <img alt=\"more arrow\" src=\"/assets/images/overlay-arrow.png\"/>,\n",
       " <img alt=\"Nanedi Valles\" class=\"thumb\" src=\"/spaceimages/images/wallpaper/PIA23636-640x350.jpg\" title=\"Nanedi Valles\"/>,\n",
       " <img alt=\"more arrow\" src=\"/assets/images/overlay-arrow.png\"/>,\n",
       " <img alt=\"Aram Chaos\" class=\"thumb\" src=\"/spaceimages/images/wallpaper/PIA23635-640x350.jpg\" title=\"Aram Chaos\"/>,\n",
       " <img alt=\"more arrow\" src=\"/assets/images/overlay-arrow.png\"/>,\n",
       " <img alt=\"Sacra Mensa\" class=\"thumb\" src=\"/spaceimages/images/wallpaper/PIA23634-640x350.jpg\" title=\"Sacra Mensa\"/>,\n",
       " <img alt=\"more arrow\" src=\"/assets/images/overlay-arrow.png\"/>,\n",
       " <img alt=\"Mamers Valles\" class=\"thumb\" src=\"/spaceimages/images/wallpaper/PIA23633-640x350.jpg\" title=\"Mamers Valles\"/>,\n",
       " <img alt=\"more arrow\" src=\"/assets/images/overlay-arrow.png\"/>,\n",
       " <img alt=\"Nili Fossae\" class=\"thumb\" src=\"/spaceimages/images/wallpaper/PIA23632-640x350.jpg\" title=\"Nili Fossae\"/>,\n",
       " <img alt=\"more arrow\" src=\"/assets/images/overlay-arrow.png\"/>,\n",
       " <img alt=\"Tinto Vallis\" class=\"thumb\" src=\"/spaceimages/images/wallpaper/PIA23631-640x350.jpg\" title=\"Tinto Vallis\"/>,\n",
       " <img alt=\"more arrow\" src=\"/assets/images/overlay-arrow.png\"/>,\n",
       " <img alt=\"Kaiser Crater Dunes - False Color\" class=\"thumb\" src=\"/spaceimages/images/wallpaper/PIA23630-640x350.jpg\" title=\"Kaiser Crater Dunes - False Color\"/>,\n",
       " <img alt=\"more arrow\" src=\"/assets/images/overlay-arrow.png\"/>,\n",
       " <img alt=\"Hale Crater Dunes - False Color\" class=\"thumb\" src=\"/spaceimages/images/wallpaper/PIA23629-640x350.jpg\" title=\"Hale Crater Dunes - False Color\"/>,\n",
       " <img alt=\"more arrow\" src=\"/assets/images/overlay-arrow.png\"/>,\n",
       " <img alt=\"Sumgin Crater - False Color\" class=\"thumb\" src=\"/spaceimages/images/wallpaper/PIA23628-640x350.jpg\" title=\"Sumgin Crater - False Color\"/>,\n",
       " <img alt=\"more arrow\" src=\"/assets/images/overlay-arrow.png\"/>,\n",
       " <img alt=\"Juventae Chasma - False Color\" class=\"thumb\" src=\"/spaceimages/images/wallpaper/PIA23627-640x350.jpg\" title=\"Juventae Chasma - False Color\"/>,\n",
       " <img alt=\"jpl photojournal\" class=\"thumb\" src=\"/assets/images/content/tmp/images/jpl_photojournal(3x1).jpg\"/>,\n",
       " <img alt=\"Great images in NASA\" class=\"thumb\" src=\"/assets/images/content/tmp/images/nasa_images(3x1).jpg\"/>,\n",
       " <img alt=\"more arrow\" src=\"/assets/images/overlay-arrow.png\"/>,\n",
       " <img alt=\"NASA Administrator Jim Bridenstine delivers the State of NASA address\" src=\"//imagecache.jpl.nasa.gov/images/640x350/bridensteine-16-640x350.jpg\"/>,\n",
       " <img alt=\"more arrow\" src=\"/assets/images/overlay-arrow.png\"/>,\n",
       " <img alt=\"SuperCam\" src=\"//imagecache.jpl.nasa.gov/images/640x350/PIA23316-main-and-carousel-16-640x350.jpg\"/>,\n",
       " <img alt=\"more arrow\" src=\"/assets/images/overlay-arrow.png\"/>,\n",
       " <img alt=\"University Science Bowl winners\" src=\"//imagecache.jpl.nasa.gov/images/640x350/UniversityHS_winners-16-640x350.jpg\"/>]"
      ]
     },
     "execution_count": 90,
     "metadata": {},
     "output_type": "execute_result"
    }
   ],
   "source": [
    "results_i"
   ]
  },
  {
   "cell_type": "code",
   "execution_count": 91,
   "metadata": {},
   "outputs": [
    {
     "data": {
      "text/plain": [
       "'https://www.jpl.nasa.gov/assets/images/logo_nasa_trio_black@2x.png'"
      ]
     },
     "execution_count": 91,
     "metadata": {},
     "output_type": "execute_result"
    }
   ],
   "source": [
    "image_i_big = []\n",
    "for result_i in results_i:\n",
    "    big_image=result_i['src']\n",
    "    image_i_big.append(big_image)\n",
    "    \n",
    "base_url = 'https://www.jpl.nasa.gov'\n",
    "image_url=image_i_big[0]\n",
    "featured_image_url=base_url+image_url\n",
    "featured_image_url"
   ]
  },
  {
   "cell_type": "markdown",
   "metadata": {},
   "source": [
    "# Mars Live Weather"
   ]
  },
  {
   "cell_type": "code",
   "execution_count": 92,
   "metadata": {},
   "outputs": [],
   "source": [
    "\n",
    "response_w=requests.get('https://twitter.com/marswxreport?lang=en')\n",
    "soup = BeautifulSoup(response_w.text)"
   ]
  },
  {
   "cell_type": "code",
   "execution_count": 93,
   "metadata": {},
   "outputs": [],
   "source": [
    "mars_weather_s= soup.find('p',class_='TweetTextSize TweetTextSize--normal js-tweet-text tweet-text').text"
   ]
  },
  {
   "cell_type": "code",
   "execution_count": 94,
   "metadata": {},
   "outputs": [
    {
     "data": {
      "text/plain": [
       "'InSight sol 429 (2020-02-10) low -94.8ºC (-138.6ºF) high -10.4ºC (13.3ºF)\\nwinds from the W at 6.2 m/s (13.8 mph) gusting to 26.3 m/s (58.8 mph)\\npressure at 6.30 hPapic.twitter.com/1plhb6ADP6'"
      ]
     },
     "execution_count": 94,
     "metadata": {},
     "output_type": "execute_result"
    }
   ],
   "source": [
    "\n",
    "mars_weather = mars_weather_s\n",
    "mars_weather"
   ]
  },
  {
   "cell_type": "markdown",
   "metadata": {},
   "source": [
    "# Mars facts"
   ]
  },
  {
   "cell_type": "code",
   "execution_count": 95,
   "metadata": {},
   "outputs": [],
   "source": [
    "tables =pd.read_html('https://space-facts.com/mars/')\n",
    "df=tables[0]\n",
    "df.columns=['Description','Value']\n",
    "df.set_index(df['Description'],inplace=True)\n",
    "del df['Description']"
   ]
  },
  {
   "cell_type": "code",
   "execution_count": 96,
   "metadata": {},
   "outputs": [
    {
     "data": {
      "text/html": [
       "<div>\n",
       "<style scoped>\n",
       "    .dataframe tbody tr th:only-of-type {\n",
       "        vertical-align: middle;\n",
       "    }\n",
       "\n",
       "    .dataframe tbody tr th {\n",
       "        vertical-align: top;\n",
       "    }\n",
       "\n",
       "    .dataframe thead th {\n",
       "        text-align: right;\n",
       "    }\n",
       "</style>\n",
       "<table border=\"1\" class=\"dataframe\">\n",
       "  <thead>\n",
       "    <tr style=\"text-align: right;\">\n",
       "      <th></th>\n",
       "      <th>Value</th>\n",
       "    </tr>\n",
       "    <tr>\n",
       "      <th>Description</th>\n",
       "      <th></th>\n",
       "    </tr>\n",
       "  </thead>\n",
       "  <tbody>\n",
       "    <tr>\n",
       "      <td>Equatorial Diameter:</td>\n",
       "      <td>6,792 km</td>\n",
       "    </tr>\n",
       "    <tr>\n",
       "      <td>Polar Diameter:</td>\n",
       "      <td>6,752 km</td>\n",
       "    </tr>\n",
       "    <tr>\n",
       "      <td>Mass:</td>\n",
       "      <td>6.39 × 10^23 kg (0.11 Earths)</td>\n",
       "    </tr>\n",
       "    <tr>\n",
       "      <td>Moons:</td>\n",
       "      <td>2 (Phobos &amp; Deimos)</td>\n",
       "    </tr>\n",
       "    <tr>\n",
       "      <td>Orbit Distance:</td>\n",
       "      <td>227,943,824 km (1.38 AU)</td>\n",
       "    </tr>\n",
       "    <tr>\n",
       "      <td>Orbit Period:</td>\n",
       "      <td>687 days (1.9 years)</td>\n",
       "    </tr>\n",
       "    <tr>\n",
       "      <td>Surface Temperature:</td>\n",
       "      <td>-87 to -5 °C</td>\n",
       "    </tr>\n",
       "    <tr>\n",
       "      <td>First Record:</td>\n",
       "      <td>2nd millennium BC</td>\n",
       "    </tr>\n",
       "    <tr>\n",
       "      <td>Recorded By:</td>\n",
       "      <td>Egyptian astronomers</td>\n",
       "    </tr>\n",
       "  </tbody>\n",
       "</table>\n",
       "</div>"
      ],
      "text/plain": [
       "                                              Value\n",
       "Description                                        \n",
       "Equatorial Diameter:                       6,792 km\n",
       "Polar Diameter:                            6,752 km\n",
       "Mass:                 6.39 × 10^23 kg (0.11 Earths)\n",
       "Moons:                          2 (Phobos & Deimos)\n",
       "Orbit Distance:            227,943,824 km (1.38 AU)\n",
       "Orbit Period:                  687 days (1.9 years)\n",
       "Surface Temperature:                   -87 to -5 °C\n",
       "First Record:                     2nd millennium BC\n",
       "Recorded By:                   Egyptian astronomers"
      ]
     },
     "execution_count": 96,
     "metadata": {},
     "output_type": "execute_result"
    }
   ],
   "source": [
    "df"
   ]
  },
  {
   "cell_type": "markdown",
   "metadata": {},
   "source": [
    "# Mars hemispheres"
   ]
  },
  {
   "cell_type": "code",
   "execution_count": 98,
   "metadata": {},
   "outputs": [],
   "source": [
    "list_of_url = ['cerberus_enhanced','schiaparelli_enhanced','syrtis_major_enhanced','valles_marineris_enhanced']\n",
    "url_final = [f'https://astrogeology.usgs.gov/search/map/Mars/Viking/{element}' \n",
    "             for element in list_of_url]"
   ]
  },
  {
   "cell_type": "code",
   "execution_count": 99,
   "metadata": {},
   "outputs": [],
   "source": [
    "mars_hemisphere = []\n",
    "for idx,element in enumerate(url_final):\n",
    "    executable_path = {'executable_path': '/usr/local/bin/chromedriver'}\n",
    "    browser = Browser('chrome', **executable_path, headless=True)\n",
    "    browser.visit(url_final[idx])\n",
    "    html = browser.html\n",
    "    soup = BeautifulSoup(html, 'html.parser')\n",
    "    title = soup.find('h2',class_='title').text\n",
    "    picture = soup.li.a['href']\n",
    "    mars_hemisphere.append({'title':title,'img_url':picture})"
   ]
  },
  {
   "cell_type": "code",
   "execution_count": 100,
   "metadata": {},
   "outputs": [
    {
     "data": {
      "text/plain": [
       "[{'title': 'Cerberus Hemisphere Enhanced',\n",
       "  'img_url': 'http://astropedia.astrogeology.usgs.gov/download/Mars/Viking/cerberus_enhanced.tif/full.jpg'},\n",
       " {'title': 'Schiaparelli Hemisphere Enhanced',\n",
       "  'img_url': 'http://astropedia.astrogeology.usgs.gov/download/Mars/Viking/schiaparelli_enhanced.tif/full.jpg'},\n",
       " {'title': 'Syrtis Major Hemisphere Enhanced',\n",
       "  'img_url': 'http://astropedia.astrogeology.usgs.gov/download/Mars/Viking/syrtis_major_enhanced.tif/full.jpg'},\n",
       " {'title': 'Valles Marineris Hemisphere Enhanced',\n",
       "  'img_url': 'http://astropedia.astrogeology.usgs.gov/download/Mars/Viking/valles_marineris_enhanced.tif/full.jpg'}]"
      ]
     },
     "execution_count": 100,
     "metadata": {},
     "output_type": "execute_result"
    }
   ],
   "source": [
    "mars_hemisphere"
   ]
  },
  {
   "cell_type": "code",
   "execution_count": null,
   "metadata": {},
   "outputs": [],
   "source": []
  }
 ],
 "metadata": {
  "kernelspec": {
   "display_name": "Python 3",
   "language": "python",
   "name": "python3"
  },
  "language_info": {
   "codemirror_mode": {
    "name": "ipython",
    "version": 3
   },
   "file_extension": ".py",
   "mimetype": "text/x-python",
   "name": "python",
   "nbconvert_exporter": "python",
   "pygments_lexer": "ipython3",
   "version": "3.7.4"
  }
 },
 "nbformat": 4,
 "nbformat_minor": 2
}
