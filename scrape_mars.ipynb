{
 "cells": [
  {
   "cell_type": "code",
   "execution_count": 37,
   "metadata": {},
   "outputs": [],
   "source": [
    "from bs4 import BeautifulSoup\n",
    "from splinter import Browser\n",
    "import pandas as pd\n",
    "import requests\n",
    "import selenium\n",
    "from selenium import webdriver"
   ]
  },
  {
   "cell_type": "code",
   "execution_count": 38,
   "metadata": {},
   "outputs": [],
   "source": [
    "def init_browser(): \n",
    "    executable_path = {'executable_path': '/usr/local/Caskroom/chromedriver/79.0.3945.36/chromedriver'}\n",
    "    return Browser('chrome', **executable_path, headless=False)\n"
   ]
  },
  {
   "cell_type": "code",
   "execution_count": 39,
   "metadata": {},
   "outputs": [],
   "source": [
    "#init_browser()"
   ]
  },
  {
   "cell_type": "code",
   "execution_count": 40,
   "metadata": {},
   "outputs": [],
   "source": [
    "def mars_news():\n",
    "    browser = init_browser()\n",
    "    url = 'https://mars.nasa.gov/news/'\n",
    "    browser.visit(url)\n",
    "    html = browser.html\n",
    "    soup = BeautifulSoup(html, 'html.parser')\n",
    "    news_title = soup.find(\"div\",class_=\"content_title\").text\n",
    "    news_content = soup.find(\"div\",class_=\"article_teaser_body\").text\n",
    "    news_date = soup.find(\"div\",class_=\"list_date\").text\n",
    "    return news_title, news_content, news_date"
   ]
  },
  {
   "cell_type": "code",
   "execution_count": 41,
   "metadata": {},
   "outputs": [],
   "source": [
    "#mars_news()"
   ]
  },
  {
   "cell_type": "code",
   "execution_count": 42,
   "metadata": {},
   "outputs": [],
   "source": [
    "def mars_image():\n",
    "    browser = init_browser()\n",
    "    base_url = \"https://www.jpl.nasa.gov/spaceimages/?search=&category=Mars\"\n",
    "    browser.visit(base_url)\n",
    "    html = browser.html\n",
    "    soup = BeautifulSoup(html, \"html.parser\")\n",
    "    image = soup.find(\"img\", class_=\"thumb\")[\"src\"]\n",
    "    featured_image_url = \"https://www.jpl.nasa.gov\" + image\n",
    "    \n",
    "    return featured_image_url"
   ]
  },
  {
   "cell_type": "code",
   "execution_count": 43,
   "metadata": {},
   "outputs": [],
   "source": [
    "#mars_image()"
   ]
  },
  {
   "cell_type": "code",
   "execution_count": 44,
   "metadata": {},
   "outputs": [],
   "source": [
    "def mars_weather():\n",
    "    response_w=requests.get('https://twitter.com/marswxreport?lang=en')\n",
    "    soup = BeautifulSoup(response_w.text)\n",
    "    mars_weather_s= soup.find('p',class_='TweetTextSize TweetTextSize--normal js-tweet-text tweet-text').text\n",
    "    mars_weather = mars_weather_s\n",
    "    return mars_weather"
   ]
  },
  {
   "cell_type": "code",
   "execution_count": 45,
   "metadata": {},
   "outputs": [],
   "source": [
    "#mars_weather()"
   ]
  },
  {
   "cell_type": "code",
   "execution_count": 46,
   "metadata": {},
   "outputs": [],
   "source": [
    "def mars_facts():\n",
    "    tables =pd.read_html('https://space-facts.com/mars/')\n",
    "    df=tables[0]\n",
    "    df.columns=['Description','Value']\n",
    "    df.set_index(df['Description'],inplace=True)\n",
    "    del df['Description']\n",
    "    return df"
   ]
  },
  {
   "cell_type": "code",
   "execution_count": 47,
   "metadata": {},
   "outputs": [],
   "source": [
    "#mars_facts()"
   ]
  },
  {
   "cell_type": "code",
   "execution_count": 48,
   "metadata": {},
   "outputs": [],
   "source": [
    "def mars_hemispheres():\n",
    "    list_of_url = ['cerberus_enhanced','schiaparelli_enhanced','syrtis_major_enhanced','valles_marineris_enhanced']\n",
    "    url_final = [f'https://astrogeology.usgs.gov/search/map/Mars/Viking/{element}' \n",
    "             for element in list_of_url]\n",
    "    mars_hemisphere = []\n",
    "    for idx,element in enumerate(url_final):\n",
    "        executable_path = {'executable_path': '/usr/local/bin/chromedriver'}\n",
    "        browser = Browser('chrome', **executable_path, headless=True)\n",
    "        browser.visit(url_final[idx])\n",
    "        html = browser.html\n",
    "        soup = BeautifulSoup(html, 'html.parser')\n",
    "        title = soup.find('h2',class_='title').text\n",
    "        picture = soup.li.a['href']\n",
    "        mars_hemisphere.append({'title':title,'img_url':picture})\n",
    "        \n",
    "    return mars_hemisphere"
   ]
  },
  {
   "cell_type": "code",
   "execution_count": 49,
   "metadata": {},
   "outputs": [],
   "source": [
    "#mars_hemispheres()"
   ]
  },
  {
   "cell_type": "code",
   "execution_count": 50,
   "metadata": {},
   "outputs": [],
   "source": [
    "def scrape():\n",
    "    \n",
    "    data_dict = {}\n",
    "    mars_news_split = mars_news()\n",
    "    data_dict['mars_news'] = mars_news_split[0]\n",
    "    data_dict['mars_paragraph'] = mars_news_split[1]\n",
    "    data_dict['mars_paragraph'] = mars_news_split[2]\n",
    "    data_dict['mars_image'] = mars_image()\n",
    "    data_dict[\"mars_weather\"] = mars_weather()\n",
    "    data_dict[\"mars_facts\"] = mars_facts()\n",
    "    data_dict[\"mars_hemisphere\"] = mars_hemispheres()\n",
    "\n",
    "    return data_dict"
   ]
  },
  {
   "cell_type": "code",
   "execution_count": null,
   "metadata": {},
   "outputs": [],
   "source": []
  }
 ],
 "metadata": {
  "kernelspec": {
   "display_name": "Python 3",
   "language": "python",
   "name": "python3"
  },
  "language_info": {
   "codemirror_mode": {
    "name": "ipython",
    "version": 3
   },
   "file_extension": ".py",
   "mimetype": "text/x-python",
   "name": "python",
   "nbconvert_exporter": "python",
   "pygments_lexer": "ipython3",
   "version": "3.7.4"
  }
 },
 "nbformat": 4,
 "nbformat_minor": 2
}
